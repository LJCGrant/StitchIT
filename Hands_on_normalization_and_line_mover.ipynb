{
 "cells": [
  {
   "cell_type": "code",
   "execution_count": 1,
   "id": "6695e588",
   "metadata": {},
   "outputs": [
    {
     "name": "stdout",
     "output_type": "stream",
     "text": [
      "0.7059834730184849\n"
     ]
    },
    {
     "data": {
      "text/plain": [
       "True"
      ]
     },
     "execution_count": 1,
     "metadata": {},
     "output_type": "execute_result"
    }
   ],
   "source": [
    "import cv2\n",
    "import numpy as np\n",
    "import imutils\n",
    "\n",
    "def radiometric_normalization(image_to_normalize, reference_image):\n",
    "    # Load the two images\n",
    "    img1 = cv2.imread(image_to_normalize)\n",
    "    img2 = cv2.imread(reference_image)\n",
    "\n",
    "    # Resize img1 to match the dimensions of img2\n",
    "    img1 = imutils.resize(img1, width=img2.shape[1])\n",
    "\n",
    "    # Calculate the mean pixel values for both images\n",
    "    mean_img1 = np.mean(img1)\n",
    "    mean_img2 = np.mean(img2)\n",
    "    \n",
    "    # Calculate the standard deviations of pixel values for both images\n",
    "    std_img1 = np.std(img1)\n",
    "    std_img2 = np.std(img2)\n",
    "\n",
    "    # Calculate the scaling factor to normalize img1 to img2\n",
    "    scaling_factor = mean_img2 / mean_img1\n",
    "    #scaling_factor = 0.9\n",
    "    #scaling_factor = std_img2 / std_img1 * (mean_img2 / mean_img1)\n",
    "    print(scaling_factor)\n",
    "    if scaling_factor > 1:\n",
    "        scaling_factor = 1\n",
    "\n",
    "    # Normalize img1 using the scaling factor\n",
    "    normalized_image = (img1 * scaling_factor).astype(np.uint8)\n",
    "\n",
    "    return normalized_image\n",
    "\n",
    "section_to_normalize = \"390-U1556B-27R-3-Pc3-2x\"\n",
    "image_to_normalize = 'U1556B/27R-3/'+section_to_normalize+\".BMP\"\n",
    "reference_image = 'U1556B/27R-3/390-U1556B-27R-3-Pc3-1x.BMP'\n",
    "\n",
    "normalized_image = radiometric_normalization(image_to_normalize, reference_image)\n",
    "\n",
    "# Clip pixel values to the valid range (0-255)\n",
    "normalized_image = np.clip(normalized_image, 0, 255)\n",
    "\n",
    "# Save the normalized image with the same color format\n",
    "cv2.imwrite(section_to_normalize+'.BMP', normalized_image)"
   ]
  },
  {
   "cell_type": "code",
   "execution_count": 130,
   "id": "2de78e5a",
   "metadata": {},
   "outputs": [],
   "source": [
    "from PIL import Image\n",
    "\n",
    "def move_line(filename, image, x_coordinate):\n",
    "    width = image.width\n",
    "    height = image.height\n",
    "    template = Image.new(mode=\"RGB\", size=(width, height))\n",
    "    new_line_location = int(width/2)\n",
    "    \n",
    "    if x_coordinate < new_line_location:\n",
    "        left_crop = image.crop((0, 0, (width - (new_line_location - x_coordinate)), height))\n",
    "        right_crop = image.crop(((width - (new_line_location - x_coordinate)), 0, width, height))\n",
    "        Image.Image.paste(template, right_crop, (0,0))\n",
    "        Image.Image.paste(template, left_crop, (right_crop.width, 0))\n",
    "        template.save(\"fixed\"+file)\n",
    "      \n",
    "        \n",
    "    \n",
    "    else:\n",
    "        left_crop = image.crop((0, 0, (x_coordinate-new_line_location), height))\n",
    "        right_crop = image.crop(((x_coordinate-new_line_location), 0, width, height))\n",
    "        Image.Image.paste(template, right_crop, (0,0))\n",
    "        Image.Image.paste(template, left_crop, (right_crop.width, 0))\n",
    "        template.save(\"fixed\"+file)\n",
    "        \n",
    "        \n",
    "file = \"390-U1556B-19R-1-Pc7-3x.BMP\"\n",
    "path = \"move_line/390-U1556B-19R-1-Pc7-3x.BMP\"\n",
    "im = Image.open(path)\n",
    "move_line(path, im, 6426)"
   ]
  },
  {
   "cell_type": "code",
   "execution_count": 13,
   "id": "aeb1612d",
   "metadata": {},
   "outputs": [],
   "source": [
    "from PIL import Image\n",
    "# Open an image file\n",
    "image = Image.open('U1556B/38R-1/390-U1556B-38R-1-Pc4-2x.BMP')\n",
    "\n",
    "# Define the new size for the image\n",
    "new_size = (image.width, 7288)  # Replace 'width' and 'height' with the desired dimensions\n",
    "\n",
    "# Resize the image\n",
    "resized_image = image.resize(new_size)\n",
    "\n",
    "# Save the resized image to a file\n",
    "resized_image.save('U1556B/38R-1/resied_390-U1556B-38R-1-Pc4-2x.BMP')\n"
   ]
  },
  {
   "cell_type": "code",
   "execution_count": null,
   "id": "37ad46a6",
   "metadata": {},
   "outputs": [],
   "source": []
  }
 ],
 "metadata": {
  "kernelspec": {
   "display_name": "Python 3 (ipykernel)",
   "language": "python",
   "name": "python3"
  },
  "language_info": {
   "codemirror_mode": {
    "name": "ipython",
    "version": 3
   },
   "file_extension": ".py",
   "mimetype": "text/x-python",
   "name": "python",
   "nbconvert_exporter": "python",
   "pygments_lexer": "ipython3",
   "version": "3.8.8"
  }
 },
 "nbformat": 4,
 "nbformat_minor": 5
}
